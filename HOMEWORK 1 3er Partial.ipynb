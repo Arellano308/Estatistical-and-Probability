{
 "cells": [
  {
   "cell_type": "markdown",
   "metadata": {},
   "source": [
    "# HOMEWORK 1"
   ]
  },
  {
   "cell_type": "markdown",
   "metadata": {},
   "source": [
    "## Exercise 13: Parameters, Unpacking, Variables"
   ]
  },
  {
   "cell_type": "markdown",
   "metadata": {},
   "source": [
    "”Import” is how you add features to your script from the Python feature set. \n",
    "The argv is the ”argument variable,” a very standard name in programming. This variable holds the arguments you pass to your Python script when you run it. In the exercises you will get to play with this more and see what happens.\n",
    "On line 3 ”unpacked” argv so it gets assigned to the variables you can work with: truck,camaro, and vocho. Unpack just says, Take whatever is in argv, unpack it, and assign it to all of these variables on the left in order."
   ]
  },
  {
   "cell_type": "code",
   "execution_count": null,
   "metadata": {},
   "outputs": [],
   "source": [
    "from sys import argv\n",
    "script, age, eyes = argv\n",
    "age= input(\"What is your age: \")\n",
    "eyes= input(\"What is your eyes's color? \")\n",
    "hair=input(\"What is your hair's color? \")\n",
    "print(\"The script is called:\", script)\n",
    "print(\"Your age is:\", age)\n",
    "print(\"Your eye's color is:\", eyes)\n",
    "print(\"Your hair's color is:\", hair)"
   ]
  },
  {
   "cell_type": "markdown",
   "metadata": {},
   "source": [
    "## Exercise 14: Prompting and Passing"
   ]
  },
  {
   "cell_type": "markdown",
   "metadata": {},
   "source": [
    "This program basically takes the answers that you write and use the variale user_name as another variable in the program, which is included in body of the questions."
   ]
  },
  {
   "cell_type": "code",
   "execution_count": null,
   "metadata": {},
   "outputs": [],
   "source": [
    "from sys import argv\n",
    "script = argv\n",
    "user_name= input(\"Who are you?\")\n",
    "prompt = '> '\n",
    "\n",
    "print(f\"Hello {user_name}!\")\n",
    "\n",
    "print(\"I'd like to ask you a few questions\")\n",
    "print(f\"Where do you study {user_name}?\")\n",
    "place = input(prompt)\n",
    "\n",
    "print(f\"What do you study {user_name}?\")\n",
    "career = input(prompt)\n",
    "\n",
    "print(\"How many subjects do you have?\")\n",
    "subjects= input(prompt)\n",
    "\n",
    "print(f\"\"\"\n",
    "Alright, so you study in {place}. \n",
    "You study {career}. Not sure what is that.\n",
    "And you have {subjects} subjects. Nice.\n",
    "\"\"\")"
   ]
  },
  {
   "cell_type": "markdown",
   "metadata": {},
   "source": [
    "## Exercise 15: Reading Files"
   ]
  },
  {
   "cell_type": "markdown",
   "metadata": {},
   "source": [
    "This exercise involves writing two files. One is the usual ex15.py file that you will run, but the other is namedex15_sample.txt. This second file isn’t a script but a plain text file we’ll be reading in our script. Here are the contents of that file: \n",
    "This is stuff I typed into a file . \n",
    "It is really cool stuff . \n",
    "Lots and lots of fun to have in here.\n",
    "What we want to do is ”open” that file in our script and print it out. However, we do not want to just ”hard code” the name ex15_sample.txt into our script. ”Hard coding” means putting some bit of information that should come from the user as a string directly in our source code. That’s bad because we wantitto load other files later. Thesolution is to use a rgv or input to ask the user what file to open instead of ”hard coding” the file’s name. "
   ]
  },
  {
   "cell_type": "code",
   "execution_count": null,
   "metadata": {},
   "outputs": [],
   "source": [
    "from sys import argv\n",
    "\n",
    "script = argv\n",
    "filename = input(\"What is the filename?\")\n",
    "txt = open(filename)\n",
    "\n",
    "print(f\"Here's your file {filename}:\")\n",
    "print(txt.read())\n",
    "\n",
    "print(\"Type the filename again:\")\n",
    "file_again = input(\"> \")\n",
    "\n",
    "txt_again = open(file_again)\n",
    "\n",
    "print(txt_again.read())"
   ]
  },
  {
   "cell_type": "markdown",
   "metadata": {},
   "source": [
    "## Exercise 16: Reading and Writing Files"
   ]
  },
  {
   "cell_type": "markdown",
   "metadata": {},
   "source": [
    "In this exercise we will change the way we open the file"
   ]
  },
  {
   "cell_type": "code",
   "execution_count": null,
   "metadata": {},
   "outputs": [],
   "source": [
    "from sys import argv\n",
    "\n",
    "script = argv\n",
    "filename = input(\"What is the file name?\")\n",
    "print(f\"We're going to erase {filename}.\")\n",
    "print(\"If you don't want that, hit CTRL-D (^D).\")\n",
    "print(\"If you do want that, hit RETURN.\")\n",
    "\n",
    "input(\"?\")\n",
    "\n",
    "print(\"Opening the file...\")\n",
    "target = open(filename, 'w')\n",
    "\n",
    "print(\"Truncating the file. See you soon!\")\n",
    "target.truncate()\n",
    "\n",
    "print(\"Now I'm going to ask you for twolines.\")\n",
    "\n",
    "line1 = input(\"line 1: \")\n",
    "line2 = input(\"line 2: \")\n",
    "\n",
    "\n",
    "print(\"I'm going to write these to the file.\")\n",
    "\n",
    "target.write(line1)\n",
    "target.write(\"\\n\")\n",
    "target.write(line2)\n",
    "target.write(\"\\n\")\n",
    "\n",
    "\n",
    "print(\"And finally, we close it.\")\n",
    "target.close()"
   ]
  },
  {
   "cell_type": "markdown",
   "metadata": {},
   "source": [
    "## Exercise 17: More Files"
   ]
  },
  {
   "cell_type": "markdown",
   "metadata": {},
   "source": [
    "In this exercise a file is export from its location to the screen, also showing the specifications of this file"
   ]
  },
  {
   "cell_type": "code",
   "execution_count": null,
   "metadata": {},
   "outputs": [],
   "source": [
    "from sys import argv\n",
    "from os.path import exists\n",
    "\n",
    "script, from_file, to_file = argv\n",
    "\n",
    "print(f\"Copying from {from_file} to {to_file}\")\n",
    "\n",
    "#we could do these two on one line, how?\n",
    "in_file = open(from_file)\n",
    "indata = in_file.read()\n",
    "\n",
    "print(f\"The input file is {len(indata)} bytes long\")\n",
    "\n",
    "print(f\"Does the output file exist? {exists(to_file)}\")\n",
    "print(\"ReadY! CTRL-C to abort.\")\n",
    "input()\n",
    "\n",
    "out_file = open(to_file, 'w')\n",
    "out_file.write(indata)\n",
    "\n",
    "print(\"All done.\")\n",
    "\n",
    "out_file.close()\n",
    "in_file.close()"
   ]
  },
  {
   "cell_type": "markdown",
   "metadata": {},
   "source": [
    "## Exercise 18: Names, Variables, Code, Functions"
   ]
  },
  {
   "cell_type": "markdown",
   "metadata": {},
   "source": [
    "A function containes the arguments inside of itself. The arguments will be use after in the code of the program, making the program shorter or easily to write and use. Functions usually are used to reduce the size of the program and when you hace tens of lines code"
   ]
  },
  {
   "cell_type": "code",
   "execution_count": 1,
   "metadata": {},
   "outputs": [
    {
     "name": "stdout",
     "output_type": "stream",
     "text": [
      "argument1: Probability, argument2: Statistics\n",
      "argument1: Probability, argument2: Statistics\n",
      "argument1: Probability\n",
      "I got nothing'.\n"
     ]
    }
   ],
   "source": [
    "# this one is like your scripts with argv\n",
    "def print_two(*args):\n",
    "    arg1, arg2 = args\n",
    "    print(f\"argument1: {arg1}, argument2: {arg2}\")\n",
    "\n",
    "# ok, that *args is actually pointless, we can just do this\n",
    "def print_two_again(arg1, arg2):\n",
    "    print(f\"argument1: {arg1}, argument2: {arg2}\")\n",
    "\n",
    "# this just takes one argument\n",
    "def print_one(arg1):\n",
    "    print(f\"argument1: {arg1}\")\n",
    "\n",
    "# this one takes no arguments\n",
    "def print_none():\n",
    "    print(\"I got nothing'.\")\n",
    "\n",
    "\n",
    "print_two(\"Probability\",\"Statistics\")\n",
    "print_two_again(\"Probability\",\"Statistics\")\n",
    "print_one(\"Probability\")\n",
    "print_none()"
   ]
  },
  {
   "cell_type": "markdown",
   "metadata": {},
   "source": [
    "## Exercise 19: Functions and Variables"
   ]
  },
  {
   "cell_type": "markdown",
   "metadata": {},
   "source": [
    "With this exercise we do an account of resistors and LEDs, first we say the amount that we have or we can use what was declared in the variable and then we get the total in this way is what is printed on screen."
   ]
  },
  {
   "cell_type": "code",
   "execution_count": 7,
   "metadata": {},
   "outputs": [
    {
     "name": "stdout",
     "output_type": "stream",
     "text": [
      "We can just give the function numbers directly:\n",
      "You have 20 resistors!\n",
      "You have 30 leds!\n",
      "Man that's enough for a circuit!\n",
      "OR, we can use variables from our script:\n",
      "You have 10 resistors!\n",
      "You have 50 leds!\n",
      "Man that's enough for a circuit!\n",
      "We can even do math inside too:\n",
      "You have 30 resistors!\n",
      "You have 11 leds!\n",
      "Man that's enough for a circuit!\n",
      "And we can combine the two, variables and math:\n",
      "You have 110 resistors!\n",
      "You have 1050 leds!\n",
      "Man that's enough for a circuit!\n"
     ]
    }
   ],
   "source": [
    "def resistors_and_leds(resistors_count, leds_counts):\n",
    "    print(f\"You have {resistors_count} resistors!\")\n",
    "    print(f\"You have {leds_counts} leds!\")\n",
    "    print(\"Man that's enough for a circuit!\")\n",
    "    \n",
    "\n",
    "\n",
    "print(\"We can just give the function numbers directly:\")\n",
    "resistors_and_leds(20, 30)\n",
    "\n",
    "\n",
    "print(\"OR, we can use variables from our script:\")\n",
    "amount_of_resistors = 10\n",
    "amount_of_leds = 50\n",
    "\n",
    "resistors_and_leds(amount_of_resistors, amount_of_leds)\n",
    "\n",
    "\n",
    "print(\"We can even do math inside too:\")\n",
    "resistors_and_leds(10 + 20, 5 + 6)\n",
    "\n",
    "\n",
    "print(\"And we can combine the two, variables and math:\")\n",
    "resistors_and_leds(amount_of_resistors + 100, amount_of_leds + 1000)"
   ]
  },
  {
   "cell_type": "markdown",
   "metadata": {},
   "source": [
    "## Exercise 20: Functions and Files"
   ]
  },
  {
   "cell_type": "markdown",
   "metadata": {},
   "source": [
    "This exercise is about to how functions and files can work together to make useful stuff."
   ]
  },
  {
   "cell_type": "code",
   "execution_count": null,
   "metadata": {},
   "outputs": [],
   "source": [
    "from sys import argv\n",
    "\n",
    "script = argv\n",
    "input_file = input(\"What is the input file?\")\n",
    "def print_all(f):\n",
    "    print(f.read())\n",
    "\n",
    "def rewind(f):\n",
    "    f.seek(0)\n",
    "\n",
    "def print_a_line(line_count, f):\n",
    "    print(line_count, f.readline())\n",
    "\n",
    "current_file = open(input_file)\n",
    "\n",
    "print(\"First let's print the whole file:\\n\")\n",
    "\n",
    "print_all(current_file)\n",
    "\n",
    "print(\"Now let's rewind, kind of like a tape.\")\n",
    "\n",
    "rewind(current_file)\n",
    "\n",
    "print(\"Let's print three lines:\")\n",
    "\n",
    "current_line = 1\n",
    "print_a_line(current_line, current_file)\n",
    "\n",
    "current_line = current_line + 1\n",
    "print_a_line(current_line, current_file)\n",
    "\n",
    "current_line = current_line + 1\n",
    "print_a_line(current_line, current_file)"
   ]
  },
  {
   "cell_type": "markdown",
   "metadata": {},
   "source": [
    "## Exercise 21: Functions Can Return Something"
   ]
  },
  {
   "cell_type": "markdown",
   "metadata": {},
   "source": [
    "In this exercise, we have two \"variables\", we can use them to solve mathematical operations and then use the results to ask questions"
   ]
  },
  {
   "cell_type": "code",
   "execution_count": null,
   "metadata": {},
   "outputs": [],
   "source": [
    "def add(a, b):\n",
    "    print(f\"ADDING {a} + {b}\")\n",
    "    return a + b\n",
    "\n",
    "def subtract(a, b):\n",
    "    print(f\"SUBTRACTING {a} - {b}\")\n",
    "    return a - b\n",
    "\n",
    "def multiply(a, b):\n",
    "    print(f\"MULTIPLYING {a} * {b}\")\n",
    "    return a * b\n",
    "\n",
    "def divide(a, b):\n",
    "    print(f\"DIVIDING {a} / {b}\")\n",
    "    return a / b\n",
    "\n",
    "\n",
    "print(\"Let's do some math!\")\n",
    "\n",
    "age = add(30, 5)\n",
    "height = subtract(78, 4)\n",
    "weight = multiply(90, 2)\n",
    "iq = divide(100, 2)\n",
    "\n",
    "print(f\"Age: {age}, Height: {height}, Weight: {weight}, IQ: {iq}\")\n",
    "\n",
    "\n",
    "# A puzzle for the extra credit, type it in anyway.\n",
    "print(\"Here is a puzzle.\")\n",
    "\n",
    "what = add(age, subtract(height, multiply(weight, divide(iq, 2))))\n",
    "\n",
    "print(\"That becomes: \", what, \"Can you do it by hand?\")"
   ]
  },
  {
   "cell_type": "markdown",
   "metadata": {},
   "source": [
    "## Exercise 40: Modules, Classes and Objects"
   ]
  },
  {
   "cell_type": "markdown",
   "metadata": {},
   "source": [
    "Python is called an ”object-oriented programming language.” This means there is a construct in Python called a class that lets you structure your software in a particular way. Using classes, you can add consistency to your programs so that they can be used in a cleaner way. At least that’s the theory."
   ]
  },
  {
   "cell_type": "code",
   "execution_count": 1,
   "metadata": {},
   "outputs": [
    {
     "name": "stdout",
     "output_type": "stream",
     "text": [
      "I see you, see you, see you every time\n",
      "hoo, hoo, you make me, make me, ake me wanna try\n",
      "So I can't stop just letme sing one more time\n",
      "\n",
      "This is the, rhythm, rhythm, rhythm of the night!!!\n"
     ]
    }
   ],
   "source": [
    "class song(object):\n",
    "    def __init__(self,letras):\n",
    "        self.letras = letras\n",
    "    def _sing_me_that_the_night_is_young(self):\n",
    "        for line in self.letras:\n",
    "            print(line)\n",
    "            \n",
    "            \n",
    "            \n",
    "TONES_AND_I = song([\"I see you, see you, see you every time\", \n",
    "                     \"hoo, hoo, you make me, make me, ake me wanna try\", \n",
    "                     \"So I can't stop just letme sing one more time\"])\n",
    "\n",
    "\n",
    "the_rhythm = song([\"\\nThis is the, rhythm, rhythm, rhythm of the night!!!\"])\n",
    "\n",
    "TONES_AND_I._sing_me_that_the_night_is_young()\n",
    "\n",
    "the_rhythm._sing_me_that_the_night_is_young()"
   ]
  },
  {
   "cell_type": "markdown",
   "metadata": {},
   "source": [
    "## Exercise 41: Learning to Speak Object-Oriented"
   ]
  },
  {
   "cell_type": "markdown",
   "metadata": {},
   "source": [
    "The follow program is able to translate the text from a website\n",
    "class Tell Python to make a new type of thing.\n",
    "-object Two meanings: the most basic type of thing, and any instance of some thing.\n",
    "-instance What you get when you tell Python to create a class.\n",
    "-def How you define a function inside a class.\n",
    "-self Inside the functions in a class, self is a variable for the instance/object being accessed.\n",
    "-inheritance The concept that one class can inherit traits from another class, much like you and your parents.\n",
    "-composition The concept that a class can be composed of other classes as parts, much like how a car has wheels.\n",
    "-attribute A property classes have that are from composition and are usually variables.\n",
    "-is-a A phrase to say that something inherits from another, as in a ”salmon” is-a ”fish.”\n",
    "-has-a A phrase to say that something is composed of other things or has a trait, as in ”a salmon has-a mouth.”"
   ]
  },
  {
   "cell_type": "code",
   "execution_count": null,
   "metadata": {},
   "outputs": [],
   "source": [
    "import random\n",
    "from urllib.request import urlopen\n",
    "import sys\n",
    "snippet = 0\n",
    "phrase = 0\n",
    "results = 0\n",
    "WORD_URL = \"http://learncodethehardway.org/words.txt\"\n",
    "WORDS = []\n",
    "\n",
    "PHRASES = {\n",
    "\"class %%%(%%%):\":\n",
    "\"Make a class named %%% that is-a %%%.\",\n",
    "\"class %%%(object):\\n\\tdef __init__(self, ***)\" :\n",
    "\"class %%% has-a __init__ that takes self and *** params.\",\n",
    "\"class %%%(object):\\n\\tdef ***(self, @@@)\":\n",
    "\"class %%% has-a function *** that takes self and @@@ params.\",\n",
    "\"*** = %%%()\":\n",
    "\"Set *** to an instance of class %%%.\",\n",
    "\"***.***(@@@)\":\n",
    "\"From *** get the *** function, call it with params self, @@@.\",\n",
    "\"***.*** = '***'\":\n",
    "\"From *** get the *** attribute and set it to '***'.\"\n",
    "}\n",
    "\n",
    "# do they want to drill phrases first\n",
    "if len(sys.argv) == 2 and sys.argv[1] == \"english\":\n",
    "    PHRASE_FIRST = True\n",
    "else:\n",
    "    PHRASE_FIRST = False\n",
    "\n",
    "# load up the words from the website\n",
    "for word in urlopen(WORD_URL).readlines():\n",
    "    WORDS.append(str(word.strip(), encoding=\"utf-8\"))\n",
    "\n",
    "\n",
    "def convert(snippet, phrase):\n",
    "    class_names = [w.capitalize() for w in\n",
    "    random.sample(WORDS, snippet.count(\"%%%\"))]\n",
    "    other_names = random.sample(WORDS, snippet.count(\"***\"))\n",
    "    results = []\n",
    "    param_names = []\n",
    "\n",
    "    for i in range(0, snippet.count(\"@@@\")):\n",
    "        param_count = random.randint(1,3)\n",
    "        param_names.append(', '.join(\n",
    "        random.sample(WORDS, param_count)))\n",
    "\n",
    "    for sentence in snippet, phrase:\n",
    "        result = sentence[:]\n",
    "\n",
    "# fake class names\n",
    "    for word in class_names:\n",
    "        result = result.replace(\"%%%\", word, 1)\n",
    "\n",
    "# fake other names\n",
    "    for word in other_names:\n",
    "        result = result.replace(\"***\", word, 1)\n",
    "\n",
    "# fake parameter lists\n",
    "    for word in param_names:\n",
    "        result = result.replace(\"@@@\", word, 1)\n",
    "\n",
    "        results.append(result)\n",
    "\n",
    "        return results\n",
    "\n",
    "\n",
    "# keep going until they hit CTRL-D\n",
    "try:\n",
    "    while True:\n",
    "        snippets = list(PHRASES.keys())\n",
    "        random.shuffle(snippets)\n",
    "\n",
    "    for snippet in snippets:\n",
    "        phrase = PHRASES[snippet]\n",
    "        question, answer = convert(snippet, phrase)\n",
    "    if PHRASE_FIRST:\n",
    "        question, answer = answer, question\n",
    "\n",
    "        print(question) \n",
    "\n",
    "        input(\"> \")\n",
    "        print(f\"ANSWER: {answer}\\n\\n\")\n",
    "except EOFError:\n",
    "    print(\"\\nBye\")"
   ]
  },
  {
   "cell_type": "markdown",
   "metadata": {},
   "source": [
    "## Exercise 42: Is-A, Has-A, Objects, and Classes"
   ]
  },
  {
   "cell_type": "markdown",
   "metadata": {},
   "source": [
    "This is a weird concept, but to be very honest you only have to worry about it when you make new classes and when you use a class.The program helps to understand what is a class or an object."
   ]
  },
  {
   "cell_type": "code",
   "execution_count": null,
   "metadata": {},
   "outputs": [],
   "source": [
    "## Animal is-a object (yes, sort of confusing) look at the extra credit\n",
    "class Animal(object):\n",
    "pass\n",
    "\n",
    "## ??\n",
    "class Dog(Animal):\n",
    "\n",
    "def __init__(self, name):\n",
    "## ??\n",
    "self.name = name\n",
    "\n",
    "## ??\n",
    "class Cat(Animal):\n",
    "\n",
    "def __init__(self, name):\n",
    "## ??\n",
    "self.name = name\n",
    "\n",
    "## ??\n",
    "class Person(object):\n",
    "\n",
    "def __init__(self, name):\n",
    "## ??\n",
    "self.name = name\n",
    "\n",
    "## Person has-a pet of some kind\n",
    "\n",
    "self.pet = None\n",
    "\n",
    "## ??\n",
    "class Employee(Person):\n",
    "\n",
    "def __init__(self, name, salary):\n",
    "## ?? hmm what is this strange magic?\n",
    "super(Employee, self).__init__(name)\n",
    "## ??\n",
    "self.salary = salary\n",
    "\n",
    "## ??\n",
    "class Fish(object):\n",
    "pass\n",
    "\n",
    "## ??\n",
    "class Salmon(Fish):\n",
    "pass\n",
    "\n",
    "## ??\n",
    "class Halibut(Fish):\n",
    "pass\n",
    "\n",
    "## rover is-a Dog\n",
    "rover = Dog(\"Rover\")\n",
    "\n",
    "## ??\n",
    "satan = Cat(\"Satan\")\n",
    "\n",
    "## ??\n",
    "mary = Person(\"Mary\")\n",
    "\n",
    "## ??\n",
    "mary.pet = satan\n",
    "\n",
    "## ??\n",
    "frank = Employee(\"Frank\", 120000)\n",
    "\n",
    "## ??\n",
    "frank.pet = rover\n",
    "\n",
    "## ??\n",
    "flipper = Fish()\n",
    "\n",
    "IS-A, HAS-A, OBJECTS, AND CLASSES 195\n",
    "## ??\n",
    "crouse = Salmon()\n",
    "\n",
    "## ??\n",
    "harry = Halibut()"
   ]
  },
  {
   "cell_type": "markdown",
   "metadata": {},
   "source": [
    "## Exercise 43: Basic Object-Oriented Analysis and Design"
   ]
  },
  {
   "cell_type": "markdown",
   "metadata": {},
   "source": [
    "I’m going to describe a process to use when you want to build something using Python, specifically with object-oriented programming (OOP). What I mean by a ”process” is that I’ll give you a set of steps that you do in order but that you aren’t meant to be a slave to or that will totally always work for every problem. They are just a good starting point for many programming problems and shouldn’t be considered the only way to solve these types of problems. This process is just one way to do it that you can follow."
   ]
  },
  {
   "cell_type": "code",
   "execution_count": 2,
   "metadata": {},
   "outputs": [],
   "source": [
    "class Scene(object):\n",
    "\n",
    "    def enter(self):\n",
    "        pass\n",
    "\n",
    "\n",
    "class Engine(object):\n",
    "\n",
    "    def __init__(self, scene_map):\n",
    "        pass\n",
    "\n",
    "def play(self):\n",
    "    pass\n",
    "\n",
    "class Death(Scene):\n",
    "\n",
    "    def enter(self):\n",
    "        pass\n",
    "\n",
    "class CentralCorridor(Scene):\n",
    "\n",
    "    def enter(self):\n",
    "        pass\n",
    "\n",
    "class LaserWeaponArmory(Scene):\n",
    "\n",
    "    def enter(self):\n",
    "        pass\n",
    "\n",
    "class TheBridge(Scene):\n",
    "\n",
    "    def enter(self):\n",
    "        pass\n",
    "\n",
    "class EscapePod(Scene):\n",
    "\n",
    "    def enter(self):\n",
    "        pass\n",
    "\n",
    "\n",
    "class Map(object):\n",
    "\n",
    "    def __init__(self, start_scene):\n",
    "        pass\n",
    "\n",
    "def next_scene(self, scene_name):\n",
    "    pass\n",
    "\n",
    "def opening_scene(self):\n",
    "    pass\n",
    "\n",
    "\n",
    "a_map = Map('central_corridor')\n",
    "a_game = Engine(a_map)"
   ]
  }
 ],
 "metadata": {
  "kernelspec": {
   "display_name": "Python 3",
   "language": "python",
   "name": "python3"
  },
  "language_info": {
   "codemirror_mode": {
    "name": "ipython",
    "version": 3
   },
   "file_extension": ".py",
   "mimetype": "text/x-python",
   "name": "python",
   "nbconvert_exporter": "python",
   "pygments_lexer": "ipython3",
   "version": "3.7.4"
  }
 },
 "nbformat": 4,
 "nbformat_minor": 2
}
